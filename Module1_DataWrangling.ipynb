{
 "cells": [
  {
   "cell_type": "markdown",
   "id": "6fd5bd87-5a0c-4a71-9dfd-3870f1153fd5",
   "metadata": {},
   "source": [
    "# Module 1: Import and data wrangling"
   ]
  },
  {
   "cell_type": "markdown",
   "id": "8ff592e8-6f8e-4527-884b-928d8cc9fbbe",
   "metadata": {},
   "source": [
    "- Import libraries that use in this project"
   ]
  },
  {
   "cell_type": "code",
   "execution_count": 1,
   "id": "67345b3e-1e53-4c99-b6d1-1301c694b5f9",
   "metadata": {},
   "outputs": [],
   "source": [
    "import pandas as pd\n",
    "import numpy as np\n"
   ]
  },
  {
   "cell_type": "markdown",
   "id": "5d484f35-e33f-415a-99eb-99f3866b19d3",
   "metadata": {},
   "source": [
    "## Importing CSV file using Pandas"
   ]
  },
  {
   "cell_type": "code",
   "execution_count": 2,
   "id": "c6c0015e-c372-4657-b609-03941e709bab",
   "metadata": {},
   "outputs": [],
   "source": [
    "df = pd.read_csv('/Users/aimeetienle/Desktop/aimee_learn_data/ProjectIndeedJobPosting/indeed_kaggle.csv')"
   ]
  },
  {
   "cell_type": "markdown",
   "id": "37956f52-add7-4a92-bb1d-09b9459e93c2",
   "metadata": {},
   "source": [
    "- Use Pandas to format the datafame in order to scroll all columns and rows"
   ]
  },
  {
   "cell_type": "code",
   "execution_count": 3,
   "id": "88783e6e-095c-4b43-961a-42fef4229f3e",
   "metadata": {},
   "outputs": [],
   "source": [
    "pd.set_option('display.max_rows', None) # scrolling all the data\n",
    "pd.set_option('display.max_colwidth', None) # expand column to see all text"
   ]
  },
  {
   "cell_type": "markdown",
   "id": "d129cf78-5be7-4ea6-bdb6-375b22f47b2f",
   "metadata": {},
   "source": [
    "- Glance at the dataset, look for Null and duplicate values"
   ]
  },
  {
   "cell_type": "code",
   "execution_count": 4,
   "id": "0ab58cb1-0607-4521-9d8e-9c7e5068b43c",
   "metadata": {},
   "outputs": [
    {
     "data": {
      "text/plain": [
       "(29184, 8)"
      ]
     },
     "execution_count": 4,
     "metadata": {},
     "output_type": "execute_result"
    }
   ],
   "source": [
    "df.shape  # the data has the total of 29184 rows and 8 columns"
   ]
  },
  {
   "cell_type": "code",
   "execution_count": 5,
   "id": "60b303bd-3454-4f73-9bb9-7384f43c45e2",
   "metadata": {},
   "outputs": [
    {
     "name": "stdout",
     "output_type": "stream",
     "text": [
      "<class 'pandas.core.frame.DataFrame'>\n",
      "RangeIndex: 29184 entries, 0 to 29183\n",
      "Data columns (total 8 columns):\n",
      " #   Column       Non-Null Count  Dtype \n",
      "---  ------       --------------  ----- \n",
      " 0   Title        29184 non-null  object\n",
      " 1   Company      29181 non-null  object\n",
      " 2   Location     29182 non-null  object\n",
      " 3   Salary       16283 non-null  object\n",
      " 4   Description  22755 non-null  object\n",
      " 5   Job URL      29181 non-null  object\n",
      " 6   Date         29184 non-null  object\n",
      " 7   State        29184 non-null  object\n",
      "dtypes: object(8)\n",
      "memory usage: 1.8+ MB\n"
     ]
    }
   ],
   "source": [
    "df.info() # 5 columns have missing values"
   ]
  },
  {
   "cell_type": "code",
   "execution_count": 6,
   "id": "17731da9-9b6a-48b1-892e-879c3e847061",
   "metadata": {},
   "outputs": [
    {
     "data": {
      "text/plain": [
       "Title          object\n",
       "Company        object\n",
       "Location       object\n",
       "Salary         object\n",
       "Description    object\n",
       "Job URL        object\n",
       "Date           object\n",
       "State          object\n",
       "dtype: object"
      ]
     },
     "execution_count": 6,
     "metadata": {},
     "output_type": "execute_result"
    }
   ],
   "source": [
    "df.dtypes # Salary type should by float, date need to be converted to datetime data type."
   ]
  },
  {
   "cell_type": "code",
   "execution_count": 7,
   "id": "19d4a605-97f2-43bf-9c19-09638a767a4f",
   "metadata": {},
   "outputs": [
    {
     "data": {
      "text/html": [
       "<div>\n",
       "<style scoped>\n",
       "    .dataframe tbody tr th:only-of-type {\n",
       "        vertical-align: middle;\n",
       "    }\n",
       "\n",
       "    .dataframe tbody tr th {\n",
       "        vertical-align: top;\n",
       "    }\n",
       "\n",
       "    .dataframe thead th {\n",
       "        text-align: right;\n",
       "    }\n",
       "</style>\n",
       "<table border=\"1\" class=\"dataframe\">\n",
       "  <thead>\n",
       "    <tr style=\"text-align: right;\">\n",
       "      <th></th>\n",
       "      <th>Title</th>\n",
       "      <th>Company</th>\n",
       "      <th>Location</th>\n",
       "      <th>Salary</th>\n",
       "      <th>Description</th>\n",
       "      <th>Job URL</th>\n",
       "      <th>Date</th>\n",
       "      <th>State</th>\n",
       "    </tr>\n",
       "  </thead>\n",
       "  <tbody>\n",
       "    <tr>\n",
       "      <th>count</th>\n",
       "      <td>29184</td>\n",
       "      <td>29181</td>\n",
       "      <td>29182</td>\n",
       "      <td>16283</td>\n",
       "      <td>22755</td>\n",
       "      <td>29181</td>\n",
       "      <td>29184</td>\n",
       "      <td>29184</td>\n",
       "    </tr>\n",
       "    <tr>\n",
       "      <th>unique</th>\n",
       "      <td>8173</td>\n",
       "      <td>4085</td>\n",
       "      <td>3817</td>\n",
       "      <td>3527</td>\n",
       "      <td>12956</td>\n",
       "      <td>29181</td>\n",
       "      <td>36</td>\n",
       "      <td>52</td>\n",
       "    </tr>\n",
       "    <tr>\n",
       "      <th>top</th>\n",
       "      <td>Data Scientist</td>\n",
       "      <td>Amazon.com Services LLC</td>\n",
       "      <td>Remote</td>\n",
       "      <td>Full-time</td>\n",
       "      <td>Note: Apple benefit, compensation and employee stock programs are subject to eligibility requirements and other terms of the applicable plan or program.</td>\n",
       "      <td>https://www.indeed.com/rc/clk?jk=b31b63cb0d9fdd0f&amp;bb=iyky3AQomuxeNprvj0oz9HyPara7dK1M9INizUv8kosQ394A7WGaCTtBbYUOGCiGAIxUmt1U3X2Kt-adR663FfscJlBBLKLs6Q3kY2IhY5ZFWlikYNcXP91yqruJz9PL&amp;xkcb=SoCe67M3_jNDenxlnp0LbzkdCdPP&amp;fccid=0e6b3ef446f683d5&amp;vjs=3</td>\n",
       "      <td>2024-06-23</td>\n",
       "      <td>California</td>\n",
       "    </tr>\n",
       "    <tr>\n",
       "      <th>freq</th>\n",
       "      <td>1407</td>\n",
       "      <td>948</td>\n",
       "      <td>1340</td>\n",
       "      <td>4560</td>\n",
       "      <td>139</td>\n",
       "      <td>1</td>\n",
       "      <td>4745</td>\n",
       "      <td>5400</td>\n",
       "    </tr>\n",
       "  </tbody>\n",
       "</table>\n",
       "</div>"
      ],
      "text/plain": [
       "                 Title                  Company Location     Salary  \\\n",
       "count            29184                    29181    29182      16283   \n",
       "unique            8173                     4085     3817       3527   \n",
       "top     Data Scientist  Amazon.com Services LLC   Remote  Full-time   \n",
       "freq              1407                      948     1340       4560   \n",
       "\n",
       "                                                                                                                                                     Description  \\\n",
       "count                                                                                                                                                      22755   \n",
       "unique                                                                                                                                                     12956   \n",
       "top     Note: Apple benefit, compensation and employee stock programs are subject to eligibility requirements and other terms of the applicable plan or program.   \n",
       "freq                                                                                                                                                         139   \n",
       "\n",
       "                                                                                                                                                                                                                                                     Job URL  \\\n",
       "count                                                                                                                                                                                                                                                  29181   \n",
       "unique                                                                                                                                                                                                                                                 29181   \n",
       "top     https://www.indeed.com/rc/clk?jk=b31b63cb0d9fdd0f&bb=iyky3AQomuxeNprvj0oz9HyPara7dK1M9INizUv8kosQ394A7WGaCTtBbYUOGCiGAIxUmt1U3X2Kt-adR663FfscJlBBLKLs6Q3kY2IhY5ZFWlikYNcXP91yqruJz9PL&xkcb=SoCe67M3_jNDenxlnp0LbzkdCdPP&fccid=0e6b3ef446f683d5&vjs=3   \n",
       "freq                                                                                                                                                                                                                                                       1   \n",
       "\n",
       "              Date       State  \n",
       "count        29184       29184  \n",
       "unique          36          52  \n",
       "top     2024-06-23  California  \n",
       "freq          4745        5400  "
      ]
     },
     "execution_count": 7,
     "metadata": {},
     "output_type": "execute_result"
    }
   ],
   "source": [
    "df.describe()"
   ]
  },
  {
   "cell_type": "markdown",
   "id": "6962b531-76d6-4862-b252-4e5f91b4f5e9",
   "metadata": {},
   "source": [
    "## Data Wrangling"
   ]
  },
  {
   "cell_type": "markdown",
   "id": "81a4fe8f-7664-4ebc-a632-99e295e70d12",
   "metadata": {},
   "source": [
    "- Drop unused column `JobURL`"
   ]
  },
  {
   "cell_type": "code",
   "execution_count": 8,
   "id": "351e55a9-f047-433b-8262-3e89b27d2928",
   "metadata": {},
   "outputs": [],
   "source": [
    "df = df.drop(columns ='Job URL') # drop un-used column"
   ]
  },
  {
   "cell_type": "markdown",
   "id": "4e47da71-74ac-4f38-a20d-db7f50080c21",
   "metadata": {},
   "source": [
    "- Drop duplicate rows if any"
   ]
  },
  {
   "cell_type": "code",
   "execution_count": 9,
   "id": "44b1d30e-4962-48cc-b9c1-2606098b9b83",
   "metadata": {},
   "outputs": [
    {
     "data": {
      "text/plain": [
       "(29184, 7)"
      ]
     },
     "execution_count": 9,
     "metadata": {},
     "output_type": "execute_result"
    }
   ],
   "source": [
    "df.drop_duplicates().shape # no duplicate in the dataset."
   ]
  },
  {
   "cell_type": "markdown",
   "id": "e5d1ce84-5ecf-441a-8817-b8ced78991a9",
   "metadata": {},
   "source": [
    "- Replace blank values to `NaN` if any"
   ]
  },
  {
   "cell_type": "code",
   "execution_count": 10,
   "id": "219343ae-de10-44c9-ada9-09b216d0b5c1",
   "metadata": {},
   "outputs": [],
   "source": [
    "df.replace('', np.nan, inplace=True)"
   ]
  },
  {
   "cell_type": "markdown",
   "id": "99a514f3-d2c9-448f-9d83-f621436ac92b",
   "metadata": {},
   "source": [
    "- Working with `missing values`"
   ]
  },
  {
   "cell_type": "code",
   "execution_count": 11,
   "id": "71b6d493-5bf3-4f96-a602-59f6ede9da19",
   "metadata": {},
   "outputs": [
    {
     "name": "stdout",
     "output_type": "stream",
     "text": [
      "The Company column is missng: 3 values\n",
      "The Location column is missing: 2 values\n",
      "The Salary column is missing: 12901 values\n",
      "The description column is missing: 6429 values\n"
     ]
    }
   ],
   "source": [
    "print('The Company column is missng:',df['Company'].isnull().sum() ,'values')\n",
    "print('The Location column is missing:',df['Location'].isnull().sum(), 'values')\n",
    "print('The Salary column is missing:', df['Salary'].isnull().sum(), 'values')\n",
    "print('The description column is missing:', df['Description'].isnull().sum(), 'values')"
   ]
  },
  {
   "cell_type": "markdown",
   "id": "bad25656-43c5-4874-8781-70bef3936ea1",
   "metadata": {},
   "source": [
    "## Tasks:\n",
    "\n",
    "1. Identify missing values where data exists in other columns (e.g., salary info in the Description column but missing in Salary).\n",
    "2. Create new columns for analysis: Working Type and Level.\n",
    "3. Extract City and State from the Location column.\n",
    "4. Extract work mode from the Location column and fill the values in Work_Type column.\n",
    "5. Clean Salary column by removing strings, split it into Min and Max salary, and calculate the average salary.\n",
    "6. Fill missing Salary data using information from the Description column.\n",
    "7. Convert Salary to float and Posting Date to datetime format.\n"
   ]
  },
  {
   "cell_type": "markdown",
   "id": "39b8f911-f505-43a1-8e49-a0945b6f6b0a",
   "metadata": {},
   "source": [
    "### Method: Working with each column for each related task"
   ]
  },
  {
   "cell_type": "markdown",
   "id": "831498b7-4c13-483d-8b6a-e397360c8af1",
   "metadata": {},
   "source": [
    "__Company column__"
   ]
  },
  {
   "cell_type": "markdown",
   "id": "6fa84a2e-50b9-4093-9b55-c85cc307b0dd",
   "metadata": {},
   "source": [
    "- Define function to capitalize the first letter of each word"
   ]
  },
  {
   "cell_type": "code",
   "execution_count": 12,
   "id": "c266973d-4daf-4128-af56-7f0ebb403280",
   "metadata": {},
   "outputs": [],
   "source": [
    "def custom_capitalize(text):\n",
    "    return ' '.join(word.capitalize() for word in text.split())\n",
    "\n",
    "df['Company'] = df['Company'].astype(str)\n",
    "df['Company'] = df['Company'].apply(custom_capitalize)"
   ]
  },
  {
   "cell_type": "markdown",
   "id": "5e329c7b-23ac-498e-8a75-3d78599b4879",
   "metadata": {},
   "source": [
    "__Title column__"
   ]
  },
  {
   "cell_type": "markdown",
   "id": "6661105f-7a51-4528-95e8-053d1353d7e1",
   "metadata": {},
   "source": [
    "- Apply the above capitalize function to the `Title` column"
   ]
  },
  {
   "cell_type": "code",
   "execution_count": 13,
   "id": "b36efadb-4bdb-41ab-b419-2e0433b65542",
   "metadata": {},
   "outputs": [],
   "source": [
    "df['Title'] = df['Title'].apply(custom_capitalize)"
   ]
  },
  {
   "cell_type": "markdown",
   "id": "4beee362-892b-4420-802d-773de57b3074",
   "metadata": {},
   "source": [
    "- The `Title` column that state working mode, look for these columns and extract to the new colum `Work_Type`"
   ]
  },
  {
   "cell_type": "code",
   "execution_count": 14,
   "id": "d3661cda-7c24-40f0-b401-2ad6c6e4249c",
   "metadata": {},
   "outputs": [],
   "source": [
    "df['Work_Type']=df['Title'].str.extract(r'(Remote|remote|Full-time|full-time|Part-time|part-time|Casual|casual|Hybrid|hybrid)', expand=False)"
   ]
  },
  {
   "cell_type": "markdown",
   "id": "3717df31-04af-43ee-a94c-3d1a6ba7df68",
   "metadata": {},
   "source": [
    "- Extract the `Job Level` from `Title` column"
   ]
  },
  {
   "cell_type": "code",
   "execution_count": 15,
   "id": "a8985ea2-eb16-4b95-b6ef-fc8b9368dc25",
   "metadata": {},
   "outputs": [],
   "source": [
    "df['Level'] = df['Title'].str.extract(r'(?i)(Associate|Graduate|Senior|Junior|Entry-level|Manager|Lead)', expand=False)"
   ]
  },
  {
   "cell_type": "markdown",
   "id": "159175d3-cb25-4d35-b1aa-d87a06122fc0",
   "metadata": {},
   "source": [
    "- If the values are `Null`, then Level is supposed to be `Mid-level`"
   ]
  },
  {
   "cell_type": "code",
   "execution_count": 16,
   "id": "6a08caf1-55eb-492f-9451-06ef8bb4ec68",
   "metadata": {},
   "outputs": [],
   "source": [
    "df['Level']=df['Level'].fillna('Mid-level').str.capitalize()"
   ]
  },
  {
   "cell_type": "markdown",
   "id": "9b2784bb-0962-4271-ab89-8f4b49a1b6cd",
   "metadata": {},
   "source": [
    "__Location column__"
   ]
  },
  {
   "cell_type": "markdown",
   "id": "b7c3563b-c66f-48ba-adb9-3202f735615c",
   "metadata": {},
   "source": [
    "- Use split method to extract the `City, Postcode` from Location column to new columns"
   ]
  },
  {
   "cell_type": "code",
   "execution_count": 17,
   "id": "418c9b8e-bf6b-4974-b9fc-b1c87097d0ec",
   "metadata": {},
   "outputs": [],
   "source": [
    "df[['City','Post_Code']] = df['Location'].str.split(',', n=1, expand=True)"
   ]
  },
  {
   "cell_type": "markdown",
   "id": "6239b268-57d0-4692-8144-d88d751e43ed",
   "metadata": {},
   "source": [
    "- Use regular expression to extract the `Postcode` from the string (interger data types)"
   ]
  },
  {
   "cell_type": "code",
   "execution_count": 18,
   "id": "9525bfed-44be-4786-8a8c-03d910de5ee5",
   "metadata": {},
   "outputs": [],
   "source": [
    "df['Post_Code']=df['Post_Code'].str.extract(r'(\\d+)', expand=True)"
   ]
  },
  {
   "cell_type": "markdown",
   "id": "6ed9df27-2ec7-4319-b248-915ebf7caf4a",
   "metadata": {},
   "source": [
    "- Extract the Work type from `Location` column"
   ]
  },
  {
   "cell_type": "code",
   "execution_count": 19,
   "id": "aab6be43-955e-43c2-bd93-4a6525e8b897",
   "metadata": {},
   "outputs": [],
   "source": [
    "df['Work_Type1'] = df['Location'][df['Location'] == 'Remote|remote|Hybrid|hybrid']"
   ]
  },
  {
   "cell_type": "markdown",
   "id": "c764ab77-bb02-4f40-a922-c2cedfd1c2f7",
   "metadata": {},
   "source": [
    "- Fill the missing value in `Work_Type` column by the new Work_Type1 that extract from `Location`"
   ]
  },
  {
   "cell_type": "code",
   "execution_count": 20,
   "id": "3b445c2d-0a7c-4ecb-91dc-3ab354553656",
   "metadata": {},
   "outputs": [],
   "source": [
    "df['Work_Type'] = df['Work_Type1'].fillna(df['Work_Type'])"
   ]
  },
  {
   "cell_type": "markdown",
   "id": "f403f879-ce91-4114-8389-c987bac58dc5",
   "metadata": {},
   "source": [
    "__Salary column__"
   ]
  },
  {
   "cell_type": "markdown",
   "id": "3652fd96-493f-4dcf-9a40-1ef1284ecf34",
   "metadata": {},
   "source": [
    "- Define function using loop to extract digit from text"
   ]
  },
  {
   "cell_type": "code",
   "execution_count": 21,
   "id": "821fa6d7-7ee4-45e8-9a00-52794d644188",
   "metadata": {},
   "outputs": [],
   "source": [
    "# Function to extract digit from text\n",
    "def extract_number(text):\n",
    "    if pd.isna(text):\n",
    "        return np.nan\n",
    "\n",
    "    numbers = []\n",
    "    for char in text:\n",
    "        if char.isdigit() or char in ',.-':\n",
    "            numbers.append(char)\n",
    "    return ''.join(numbers).strip()"
   ]
  },
  {
   "cell_type": "markdown",
   "id": "626ccae6-7f41-4dd2-9ca4-4fa6611bbd48",
   "metadata": {},
   "source": [
    "- Apply the function to `Salary` column"
   ]
  },
  {
   "cell_type": "code",
   "execution_count": 22,
   "id": "16d6dbdd-eeaa-49c4-8a66-4e9e65d3a1c8",
   "metadata": {},
   "outputs": [],
   "source": [
    "df['Salary']=df['Salary'].apply(extract_number)"
   ]
  },
  {
   "cell_type": "markdown",
   "id": "6841ad49-0822-426b-9597-62efcd6eeab8",
   "metadata": {},
   "source": [
    "- For the values is not the number, ruturn to `Null` value "
   ]
  },
  {
   "cell_type": "code",
   "execution_count": 23,
   "id": "109a5ff5-d749-489a-a3d6-2d757bcc3da3",
   "metadata": {},
   "outputs": [],
   "source": [
    "df['Salary'] = df['Salary'].str.strip('-')\n",
    "\n",
    "df.replace('', np.nan, inplace=True)"
   ]
  },
  {
   "cell_type": "markdown",
   "id": "aca98790-1929-4c7e-b0a8-8b409753dbfb",
   "metadata": {},
   "source": [
    "- Looking for the missing salary information in description column by using regular expression to extract `$` sign"
   ]
  },
  {
   "cell_type": "code",
   "execution_count": 24,
   "id": "678f1c36-73b4-4717-b121-222d77c0c3b9",
   "metadata": {},
   "outputs": [],
   "source": [
    "df['Salary1'] = df['Description'].str.extract(r'(\\$\\d{1,3}(?:,\\d{3})*(?:\\.\\d{2})?)')"
   ]
  },
  {
   "cell_type": "markdown",
   "id": "97cd38a3-850b-4a37-91af-1648eb14f0c1",
   "metadata": {},
   "source": [
    "- Fill the missing value in `Salary` column with the new `Salary1` column that extract from the decription"
   ]
  },
  {
   "cell_type": "code",
   "execution_count": 25,
   "id": "ab7dda27-ddd3-42f5-bee0-19de2016b1ba",
   "metadata": {},
   "outputs": [],
   "source": [
    "df['Salary']= df['Salary'].fillna(df['Salary1'])"
   ]
  },
  {
   "cell_type": "markdown",
   "id": "41ad3964-aec5-4fbd-a07c-d99a45bc6fde",
   "metadata": {},
   "source": [
    "- Salary within a range, seperate into to column `Min salary` and `Max salary`"
   ]
  },
  {
   "cell_type": "code",
   "execution_count": 26,
   "id": "b3d3c683-bc66-4cdc-afeb-bbbaab11219e",
   "metadata": {},
   "outputs": [],
   "source": [
    "df[['Min_salary','Max_salary']]=df['Salary'].str.split('-', n=1, expand=True)"
   ]
  },
  {
   "cell_type": "markdown",
   "id": "c84e8f36-e322-49cd-896f-e02d56497ab4",
   "metadata": {},
   "source": [
    "- For salary that is not a range, Min salary = Max salary"
   ]
  },
  {
   "cell_type": "code",
   "execution_count": 27,
   "id": "e063815c-90ba-431c-a958-c7ad9a589888",
   "metadata": {},
   "outputs": [],
   "source": [
    "df['Max_salary']=df['Max_salary'].fillna(df['Min_salary'])"
   ]
  },
  {
   "cell_type": "markdown",
   "id": "d8d62938-287c-488c-9723-9df0b48261ef",
   "metadata": {},
   "source": [
    "- Convert the data type to float"
   ]
  },
  {
   "cell_type": "code",
   "execution_count": 28,
   "id": "c81b93fb-4a4a-485b-a6d1-cd68083ca999",
   "metadata": {},
   "outputs": [],
   "source": [
    "# Strip any blank space and replace the '-' & ',' from salary colum\n",
    "\n",
    "df['Min_salary'] = df['Min_salary'].str.replace(',','') \n",
    "df['Min_salary'] = df['Min_salary'].str.replace('$','') \n",
    "df['Max_salary'] = df['Max_salary'].str.replace(',','')\n",
    "df['Max_salary'] = df['Max_salary'].str.replace('$','') "
   ]
  },
  {
   "cell_type": "code",
   "execution_count": 29,
   "id": "f8a0f17f-ca00-4e47-b0f3-abfc5e4bbe90",
   "metadata": {},
   "outputs": [],
   "source": [
    "# Convert to float\n",
    "\n",
    "df['Min_salary'] = df['Min_salary'].astype(float)\n",
    "df['Max_salary'] = df['Max_salary'].astype(float)"
   ]
  },
  {
   "cell_type": "code",
   "execution_count": 30,
   "id": "b17ed9c4-b125-46e6-9a18-d3f04b1c5fc9",
   "metadata": {},
   "outputs": [],
   "source": [
    "# Format the number with commas as thousands separators and no decimal places\n",
    "\n",
    "pd.options.display.float_format = '{:,.0f}'.format"
   ]
  },
  {
   "cell_type": "markdown",
   "id": "1de2f310-48fe-437a-b547-7813d574d255",
   "metadata": {},
   "source": [
    "- Use aggregate function to generate the `Average salary` column"
   ]
  },
  {
   "cell_type": "code",
   "execution_count": 31,
   "id": "d4cf85eb-1fe6-4e9c-9ba3-295f18526f41",
   "metadata": {},
   "outputs": [],
   "source": [
    "df['Average_salary'] = (df['Min_salary']+ df['Max_salary'])/2"
   ]
  },
  {
   "cell_type": "markdown",
   "id": "dcffddf1-9f4c-4739-88b9-5b2e6e30d93f",
   "metadata": {},
   "source": [
    "- Filter the salary offer by year, suppose the annual salary is `over or equal 30,000 dollars`"
   ]
  },
  {
   "cell_type": "code",
   "execution_count": 32,
   "id": "e68e9cbc-e9ba-47bd-a206-2017fd549e5c",
   "metadata": {},
   "outputs": [],
   "source": [
    "df = df[df['Average_salary'] >= 30000]"
   ]
  },
  {
   "cell_type": "markdown",
   "id": "226a20d7-abd7-4699-b57a-ab9342780715",
   "metadata": {},
   "source": [
    "__State column__"
   ]
  },
  {
   "cell_type": "markdown",
   "id": "2a1764d6-6ba9-4382-a3b2-eabc796bd3c3",
   "metadata": {},
   "source": [
    "- If the `State` column stated the value 'Remote' as the state, then the city and working type is also Remote"
   ]
  },
  {
   "cell_type": "code",
   "execution_count": 33,
   "id": "4e793894-819e-4a3d-b81d-9f5594a2b0a9",
   "metadata": {},
   "outputs": [],
   "source": [
    "df['City1'] = df['State'][df['State'] == 'Remote']"
   ]
  },
  {
   "cell_type": "markdown",
   "id": "78af5873-8236-4789-8bea-1e553b966629",
   "metadata": {},
   "source": [
    "- Update column city if state is `Remote`"
   ]
  },
  {
   "cell_type": "code",
   "execution_count": 34,
   "id": "df8ce4f9-d66b-4391-aa4a-c1e102b21c41",
   "metadata": {},
   "outputs": [],
   "source": [
    "df['City'] = df['City1'].fillna(df['City'])"
   ]
  },
  {
   "cell_type": "markdown",
   "id": "86817e60-04e2-408a-9ac1-f752a618f583",
   "metadata": {},
   "source": [
    "__City column__"
   ]
  },
  {
   "cell_type": "markdown",
   "id": "8aeb112e-0a6e-4df4-b97f-900bb0b37c91",
   "metadata": {},
   "source": [
    "- If city is remote then work type is remote"
   ]
  },
  {
   "cell_type": "code",
   "execution_count": 35,
   "id": "2d868e80-4fb5-48ee-9aa8-a03d52ace7b2",
   "metadata": {},
   "outputs": [],
   "source": [
    "df['Work_Type1'] =df['City'][df['City'] == 'Remote']"
   ]
  },
  {
   "cell_type": "markdown",
   "id": "7508fa51-c6c5-4adb-8a81-7c5394212a89",
   "metadata": {},
   "source": [
    "- Fill the Remote values to main Work_Type column"
   ]
  },
  {
   "cell_type": "code",
   "execution_count": 36,
   "id": "40287d0f-a83d-463c-8c93-938924b3b1a9",
   "metadata": {},
   "outputs": [],
   "source": [
    "df['Work_Type'] = df['Work_Type1'].fillna(df['Work_Type'])"
   ]
  },
  {
   "cell_type": "markdown",
   "id": "0d1d8555-a165-45e8-9232-e57e8f058253",
   "metadata": {},
   "source": [
    "- Extract the `City` after the word 'in'"
   ]
  },
  {
   "cell_type": "code",
   "execution_count": 37,
   "id": "70baeacf-bcd2-4beb-976f-f1b2a00aef64",
   "metadata": {},
   "outputs": [],
   "source": [
    "df['City'] = df['City'].apply(lambda x: x.split(' in ', 1)[-1].strip() if 'in' in x else x)"
   ]
  },
  {
   "cell_type": "markdown",
   "id": "3380f3ce-946b-4b9d-a815-0ae44c61f15b",
   "metadata": {},
   "source": [
    "- If `Work_Type` is null, then suppose the type is 'on-site'"
   ]
  },
  {
   "cell_type": "code",
   "execution_count": 38,
   "id": "ab7c7cfc-ae97-4d0e-b38e-352c684a32d8",
   "metadata": {},
   "outputs": [],
   "source": [
    "df['Work_Type'] = df['Work_Type'].fillna('On-Site')"
   ]
  },
  {
   "cell_type": "markdown",
   "id": "18926cb5-151c-4840-b5a6-d0fd2728b790",
   "metadata": {},
   "source": [
    "__Date column__"
   ]
  },
  {
   "cell_type": "markdown",
   "id": "ccd67396-83db-4c98-8496-6546d8c31749",
   "metadata": {},
   "source": [
    "- Convert the data type to `Datetime`"
   ]
  },
  {
   "cell_type": "code",
   "execution_count": 39,
   "id": "4f876858-1006-46fe-bd25-115c021a2987",
   "metadata": {},
   "outputs": [],
   "source": [
    "df['Date'] = pd.to_datetime(df['Date'])"
   ]
  },
  {
   "cell_type": "markdown",
   "id": "76d5ce7e-97c7-4518-8d09-82084929df45",
   "metadata": {},
   "source": [
    "__Drop un-used columns from current datasets__"
   ]
  },
  {
   "cell_type": "code",
   "execution_count": 40,
   "id": "607af88a-5f3d-4cac-855e-e8ad66f322a5",
   "metadata": {},
   "outputs": [],
   "source": [
    "df.drop(['Location', 'Description', 'Salary1', 'Min_salary', 'Max_salary', 'Work_Type1', 'Salary', 'Post_Code', 'City1'], axis=1, inplace=True)"
   ]
  },
  {
   "cell_type": "markdown",
   "id": "9876febc-6022-42a3-af31-f62a8a0f82fc",
   "metadata": {},
   "source": [
    "__Double check the missing values__"
   ]
  },
  {
   "cell_type": "code",
   "execution_count": 41,
   "id": "b339f7d1-4d37-4a4f-9fc2-cbff0a91489f",
   "metadata": {},
   "outputs": [
    {
     "data": {
      "text/plain": [
       "Title             0\n",
       "Company           0\n",
       "Date              0\n",
       "State             0\n",
       "Work_Type         0\n",
       "Level             0\n",
       "City              0\n",
       "Average_salary    0\n",
       "dtype: int64"
      ]
     },
     "execution_count": 41,
     "metadata": {},
     "output_type": "execute_result"
    }
   ],
   "source": [
    "df.isna().sum()"
   ]
  },
  {
   "cell_type": "code",
   "execution_count": 42,
   "id": "adca698e-72b0-4f6c-949e-e2c011fcf475",
   "metadata": {},
   "outputs": [
    {
     "data": {
      "text/plain": [
       "(9391, 8)"
      ]
     },
     "execution_count": 42,
     "metadata": {},
     "output_type": "execute_result"
    }
   ],
   "source": [
    "df.shape"
   ]
  },
  {
   "cell_type": "markdown",
   "id": "7eadfaa6-c0fc-4cc2-8461-8978110e18a7",
   "metadata": {},
   "source": [
    "__Download the dataset to CSV file without indexing__"
   ]
  },
  {
   "cell_type": "code",
   "execution_count": 43,
   "id": "5844eb2a-a171-4157-a9c8-df877400397b",
   "metadata": {},
   "outputs": [],
   "source": [
    "df.to_csv('completed_data.csv', index = False)"
   ]
  },
  {
   "cell_type": "markdown",
   "id": "d4d8a3f1-5f6f-44d9-945b-dfad46469382",
   "metadata": {},
   "source": [
    "--> Complete cleaning up the dataset and ready to analyse"
   ]
  }
 ],
 "metadata": {
  "kernelspec": {
   "display_name": "Python 3 (ipykernel)",
   "language": "python",
   "name": "python3"
  },
  "language_info": {
   "codemirror_mode": {
    "name": "ipython",
    "version": 3
   },
   "file_extension": ".py",
   "mimetype": "text/x-python",
   "name": "python",
   "nbconvert_exporter": "python",
   "pygments_lexer": "ipython3",
   "version": "3.12.4"
  }
 },
 "nbformat": 4,
 "nbformat_minor": 5
}
