{
 "cells": [
  {
   "cell_type": "markdown",
   "id": "6fd5bd87-5a0c-4a71-9dfd-3870f1153fd5",
   "metadata": {},
   "source": [
    "# P1: Data cleaning"
   ]
  },
  {
   "cell_type": "markdown",
   "id": "1b0c8ea2",
   "metadata": {},
   "source": [
    "__Tasks:__\n",
    "\n",
    "- Handle missing / duplicate values\n",
    "- Generate 2 new columns: `Working Type`, `Job level` from the `Description`\n",
    "- Split `Location` into 3 new columns city, state, postcode\n",
    "- Seperate the `Salary` into 2 new columns: Min and Max salary\n",
    "- Correct data types of each features"
   ]
  },
  {
   "cell_type": "code",
   "execution_count": 2,
   "id": "67345b3e-1e53-4c99-b6d1-1301c694b5f9",
   "metadata": {},
   "outputs": [],
   "source": [
    "import pandas as pd\n",
    "import numpy as np"
   ]
  },
  {
   "cell_type": "code",
   "execution_count": 3,
   "id": "cd9728ef-7339-4190-81d1-aac4bbcfc43d",
   "metadata": {},
   "outputs": [],
   "source": [
    "df = pd.read_csv('../indeed_kaggle.csv')"
   ]
  },
  {
   "cell_type": "code",
   "execution_count": 4,
   "id": "c9baf1d1-4752-4a7b-9d1f-2c8de4a3de74",
   "metadata": {},
   "outputs": [
    {
     "data": {
      "text/html": [
       "<div>\n",
       "<style scoped>\n",
       "    .dataframe tbody tr th:only-of-type {\n",
       "        vertical-align: middle;\n",
       "    }\n",
       "\n",
       "    .dataframe tbody tr th {\n",
       "        vertical-align: top;\n",
       "    }\n",
       "\n",
       "    .dataframe thead th {\n",
       "        text-align: right;\n",
       "    }\n",
       "</style>\n",
       "<table border=\"1\" class=\"dataframe\">\n",
       "  <thead>\n",
       "    <tr style=\"text-align: right;\">\n",
       "      <th></th>\n",
       "      <th>Title</th>\n",
       "      <th>Company</th>\n",
       "      <th>Location</th>\n",
       "      <th>Salary</th>\n",
       "      <th>Description</th>\n",
       "      <th>Job URL</th>\n",
       "      <th>Date</th>\n",
       "      <th>State</th>\n",
       "    </tr>\n",
       "  </thead>\n",
       "  <tbody>\n",
       "    <tr>\n",
       "      <th>0</th>\n",
       "      <td>Data Scientist</td>\n",
       "      <td>DESE Research, Inc.</td>\n",
       "      <td>Huntsville, AL 35806</td>\n",
       "      <td>NaN</td>\n",
       "      <td>Familiarity with advanced machine learning, da...</td>\n",
       "      <td>https://www.indeed.com/rc/clk?jk=b31b63cb0d9fd...</td>\n",
       "      <td>2024-06-23</td>\n",
       "      <td>Alabama</td>\n",
       "    </tr>\n",
       "    <tr>\n",
       "      <th>1</th>\n",
       "      <td>Senior Data Analyst</td>\n",
       "      <td>PCI Government Services</td>\n",
       "      <td>Hybrid work in Huntsville, AL 35808</td>\n",
       "      <td>From $85,000 a year</td>\n",
       "      <td>Must have strong technical skills in areas suc...</td>\n",
       "      <td>https://www.indeed.com/pagead/clk?mo=r&amp;ad=-6NY...</td>\n",
       "      <td>2024-06-23</td>\n",
       "      <td>Alabama</td>\n",
       "    </tr>\n",
       "    <tr>\n",
       "      <th>2</th>\n",
       "      <td>Data Scientist</td>\n",
       "      <td>Interclypse, Inc.</td>\n",
       "      <td>Huntsville, AL</td>\n",
       "      <td>Full-time</td>\n",
       "      <td>Excellent interpersonal skills and ability to ...</td>\n",
       "      <td>https://www.indeed.com/rc/clk?jk=c34e8a98b5f9a...</td>\n",
       "      <td>2024-06-23</td>\n",
       "      <td>Alabama</td>\n",
       "    </tr>\n",
       "    <tr>\n",
       "      <th>3</th>\n",
       "      <td>Data Scientist, Mid</td>\n",
       "      <td>Booz Allen</td>\n",
       "      <td>Huntsville, AL</td>\n",
       "      <td>$75,600 - $172,000 a year</td>\n",
       "      <td>As a data scientist, you’re excited at the pro...</td>\n",
       "      <td>https://www.indeed.com/rc/clk?jk=908b996e5ba98...</td>\n",
       "      <td>2024-06-23</td>\n",
       "      <td>Alabama</td>\n",
       "    </tr>\n",
       "    <tr>\n",
       "      <th>4</th>\n",
       "      <td>Senior Data Analyst (U.S. remote eligible)</td>\n",
       "      <td>Eternal Word Television Network, Inc.</td>\n",
       "      <td>Remote in Alabama</td>\n",
       "      <td>NaN</td>\n",
       "      <td>You are experienced using web analytics and Go...</td>\n",
       "      <td>https://www.indeed.com/rc/clk?jk=400cd0aab0d76...</td>\n",
       "      <td>2024-06-23</td>\n",
       "      <td>Alabama</td>\n",
       "    </tr>\n",
       "    <tr>\n",
       "      <th>5</th>\n",
       "      <td>AIMSS - Data Scientist (All Levels)</td>\n",
       "      <td>Intuitive Research and Technology Corporation</td>\n",
       "      <td>Huntsville, AL 35805</td>\n",
       "      <td>Full-time</td>\n",
       "      <td>You will have opportunities to understand mach...</td>\n",
       "      <td>https://www.indeed.com/rc/clk?jk=bf7e7f21043de...</td>\n",
       "      <td>2024-06-23</td>\n",
       "      <td>Alabama</td>\n",
       "    </tr>\n",
       "    <tr>\n",
       "      <th>6</th>\n",
       "      <td>STATISTICIAN I</td>\n",
       "      <td>University of Alabama at Birmingham</td>\n",
       "      <td>Birmingham, AL</td>\n",
       "      <td>Day shift</td>\n",
       "      <td>Collects and analyzes statistical data.\\nColle...</td>\n",
       "      <td>https://www.indeed.com/rc/clk?jk=b78b78e795878...</td>\n",
       "      <td>2024-06-23</td>\n",
       "      <td>Alabama</td>\n",
       "    </tr>\n",
       "    <tr>\n",
       "      <th>7</th>\n",
       "      <td>Data Scientist (Top Secret)</td>\n",
       "      <td>Spry Methods, Inc</td>\n",
       "      <td>Huntsville, AL</td>\n",
       "      <td>Full-time</td>\n",
       "      <td>Stay updated with the latest advancements in d...</td>\n",
       "      <td>https://www.indeed.com/rc/clk?jk=4144324e302d6...</td>\n",
       "      <td>2024-06-23</td>\n",
       "      <td>Alabama</td>\n",
       "    </tr>\n",
       "    <tr>\n",
       "      <th>8</th>\n",
       "      <td>Senior Data Scientist</td>\n",
       "      <td>Hibbett | City Gear</td>\n",
       "      <td>Birmingham, AL</td>\n",
       "      <td>Full-time</td>\n",
       "      <td>Develop project plans, track progress, and com...</td>\n",
       "      <td>https://www.indeed.com/rc/clk?jk=66da143a6d04e...</td>\n",
       "      <td>2024-06-23</td>\n",
       "      <td>Alabama</td>\n",
       "    </tr>\n",
       "    <tr>\n",
       "      <th>9</th>\n",
       "      <td>Data Scientist — \"Cancer Biology\" for Academic...</td>\n",
       "      <td>Tuskegee University</td>\n",
       "      <td>Tuskegee, AL 36088</td>\n",
       "      <td>NaN</td>\n",
       "      <td>Apply advanced statistical techniques and mach...</td>\n",
       "      <td>https://www.indeed.com/rc/clk?jk=04bb0ca0f0d27...</td>\n",
       "      <td>2024-06-23</td>\n",
       "      <td>Alabama</td>\n",
       "    </tr>\n",
       "  </tbody>\n",
       "</table>\n",
       "</div>"
      ],
      "text/plain": [
       "                                               Title  \\\n",
       "0                                     Data Scientist   \n",
       "1                                Senior Data Analyst   \n",
       "2                                     Data Scientist   \n",
       "3                                Data Scientist, Mid   \n",
       "4         Senior Data Analyst (U.S. remote eligible)   \n",
       "5                AIMSS - Data Scientist (All Levels)   \n",
       "6                                     STATISTICIAN I   \n",
       "7                        Data Scientist (Top Secret)   \n",
       "8                              Senior Data Scientist   \n",
       "9  Data Scientist — \"Cancer Biology\" for Academic...   \n",
       "\n",
       "                                         Company  \\\n",
       "0                            DESE Research, Inc.   \n",
       "1                        PCI Government Services   \n",
       "2                              Interclypse, Inc.   \n",
       "3                                     Booz Allen   \n",
       "4          Eternal Word Television Network, Inc.   \n",
       "5  Intuitive Research and Technology Corporation   \n",
       "6            University of Alabama at Birmingham   \n",
       "7                              Spry Methods, Inc   \n",
       "8                            Hibbett | City Gear   \n",
       "9                            Tuskegee University   \n",
       "\n",
       "                              Location                     Salary  \\\n",
       "0                 Huntsville, AL 35806                        NaN   \n",
       "1  Hybrid work in Huntsville, AL 35808        From $85,000 a year   \n",
       "2                       Huntsville, AL                  Full-time   \n",
       "3                       Huntsville, AL  $75,600 - $172,000 a year   \n",
       "4                    Remote in Alabama                        NaN   \n",
       "5                 Huntsville, AL 35805                  Full-time   \n",
       "6                       Birmingham, AL                  Day shift   \n",
       "7                       Huntsville, AL                  Full-time   \n",
       "8                       Birmingham, AL                  Full-time   \n",
       "9                   Tuskegee, AL 36088                        NaN   \n",
       "\n",
       "                                         Description  \\\n",
       "0  Familiarity with advanced machine learning, da...   \n",
       "1  Must have strong technical skills in areas suc...   \n",
       "2  Excellent interpersonal skills and ability to ...   \n",
       "3  As a data scientist, you’re excited at the pro...   \n",
       "4  You are experienced using web analytics and Go...   \n",
       "5  You will have opportunities to understand mach...   \n",
       "6  Collects and analyzes statistical data.\\nColle...   \n",
       "7  Stay updated with the latest advancements in d...   \n",
       "8  Develop project plans, track progress, and com...   \n",
       "9  Apply advanced statistical techniques and mach...   \n",
       "\n",
       "                                             Job URL        Date    State  \n",
       "0  https://www.indeed.com/rc/clk?jk=b31b63cb0d9fd...  2024-06-23  Alabama  \n",
       "1  https://www.indeed.com/pagead/clk?mo=r&ad=-6NY...  2024-06-23  Alabama  \n",
       "2  https://www.indeed.com/rc/clk?jk=c34e8a98b5f9a...  2024-06-23  Alabama  \n",
       "3  https://www.indeed.com/rc/clk?jk=908b996e5ba98...  2024-06-23  Alabama  \n",
       "4  https://www.indeed.com/rc/clk?jk=400cd0aab0d76...  2024-06-23  Alabama  \n",
       "5  https://www.indeed.com/rc/clk?jk=bf7e7f21043de...  2024-06-23  Alabama  \n",
       "6  https://www.indeed.com/rc/clk?jk=b78b78e795878...  2024-06-23  Alabama  \n",
       "7  https://www.indeed.com/rc/clk?jk=4144324e302d6...  2024-06-23  Alabama  \n",
       "8  https://www.indeed.com/rc/clk?jk=66da143a6d04e...  2024-06-23  Alabama  \n",
       "9  https://www.indeed.com/rc/clk?jk=04bb0ca0f0d27...  2024-06-23  Alabama  "
      ]
     },
     "execution_count": 4,
     "metadata": {},
     "output_type": "execute_result"
    }
   ],
   "source": [
    "df.head(10)"
   ]
  },
  {
   "cell_type": "markdown",
   "id": "37956f52-add7-4a92-bb1d-09b9459e93c2",
   "metadata": {},
   "source": [
    "- Format the datafame in order to scroll all columns and rows"
   ]
  },
  {
   "cell_type": "code",
   "execution_count": 5,
   "id": "88783e6e-095c-4b43-961a-42fef4229f3e",
   "metadata": {},
   "outputs": [],
   "source": [
    "pd.set_option('display.max_rows', None) \n",
    "pd.set_option('display.max_columns', None) "
   ]
  },
  {
   "cell_type": "code",
   "execution_count": 6,
   "id": "0ab58cb1-0607-4521-9d8e-9c7e5068b43c",
   "metadata": {},
   "outputs": [
    {
     "data": {
      "text/plain": [
       "(29184, 8)"
      ]
     },
     "execution_count": 6,
     "metadata": {},
     "output_type": "execute_result"
    }
   ],
   "source": [
    "df.shape  "
   ]
  },
  {
   "cell_type": "code",
   "execution_count": 7,
   "id": "60b303bd-3454-4f73-9bb9-7384f43c45e2",
   "metadata": {},
   "outputs": [
    {
     "name": "stdout",
     "output_type": "stream",
     "text": [
      "<class 'pandas.core.frame.DataFrame'>\n",
      "RangeIndex: 29184 entries, 0 to 29183\n",
      "Data columns (total 8 columns):\n",
      " #   Column       Non-Null Count  Dtype \n",
      "---  ------       --------------  ----- \n",
      " 0   Title        29184 non-null  object\n",
      " 1   Company      29181 non-null  object\n",
      " 2   Location     29182 non-null  object\n",
      " 3   Salary       16283 non-null  object\n",
      " 4   Description  22755 non-null  object\n",
      " 5   Job URL      29181 non-null  object\n",
      " 6   Date         29184 non-null  object\n",
      " 7   State        29184 non-null  object\n",
      "dtypes: object(8)\n",
      "memory usage: 1.8+ MB\n"
     ]
    }
   ],
   "source": [
    "df.info() # 5 columns have missing values"
   ]
  },
  {
   "cell_type": "code",
   "execution_count": 8,
   "id": "17731da9-9b6a-48b1-892e-879c3e847061",
   "metadata": {},
   "outputs": [
    {
     "data": {
      "text/plain": [
       "Title          object\n",
       "Company        object\n",
       "Location       object\n",
       "Salary         object\n",
       "Description    object\n",
       "Job URL        object\n",
       "Date           object\n",
       "State          object\n",
       "dtype: object"
      ]
     },
     "execution_count": 8,
     "metadata": {},
     "output_type": "execute_result"
    }
   ],
   "source": [
    "df.dtypes # Salary type should by float, date need to be converted to datetime data type."
   ]
  },
  {
   "cell_type": "code",
   "execution_count": 9,
   "id": "19d4a605-97f2-43bf-9c19-09638a767a4f",
   "metadata": {},
   "outputs": [
    {
     "data": {
      "text/html": [
       "<div>\n",
       "<style scoped>\n",
       "    .dataframe tbody tr th:only-of-type {\n",
       "        vertical-align: middle;\n",
       "    }\n",
       "\n",
       "    .dataframe tbody tr th {\n",
       "        vertical-align: top;\n",
       "    }\n",
       "\n",
       "    .dataframe thead th {\n",
       "        text-align: right;\n",
       "    }\n",
       "</style>\n",
       "<table border=\"1\" class=\"dataframe\">\n",
       "  <thead>\n",
       "    <tr style=\"text-align: right;\">\n",
       "      <th></th>\n",
       "      <th>Title</th>\n",
       "      <th>Company</th>\n",
       "      <th>Location</th>\n",
       "      <th>Salary</th>\n",
       "      <th>Description</th>\n",
       "      <th>Job URL</th>\n",
       "      <th>Date</th>\n",
       "      <th>State</th>\n",
       "    </tr>\n",
       "  </thead>\n",
       "  <tbody>\n",
       "    <tr>\n",
       "      <th>count</th>\n",
       "      <td>29184</td>\n",
       "      <td>29181</td>\n",
       "      <td>29182</td>\n",
       "      <td>16283</td>\n",
       "      <td>22755</td>\n",
       "      <td>29181</td>\n",
       "      <td>29184</td>\n",
       "      <td>29184</td>\n",
       "    </tr>\n",
       "    <tr>\n",
       "      <th>unique</th>\n",
       "      <td>8173</td>\n",
       "      <td>4085</td>\n",
       "      <td>3817</td>\n",
       "      <td>3527</td>\n",
       "      <td>12956</td>\n",
       "      <td>29181</td>\n",
       "      <td>36</td>\n",
       "      <td>52</td>\n",
       "    </tr>\n",
       "    <tr>\n",
       "      <th>top</th>\n",
       "      <td>Data Scientist</td>\n",
       "      <td>Amazon.com Services LLC</td>\n",
       "      <td>Remote</td>\n",
       "      <td>Full-time</td>\n",
       "      <td>Note: Apple benefit, compensation and employee...</td>\n",
       "      <td>https://www.indeed.com/rc/clk?jk=b31b63cb0d9fd...</td>\n",
       "      <td>2024-06-23</td>\n",
       "      <td>California</td>\n",
       "    </tr>\n",
       "    <tr>\n",
       "      <th>freq</th>\n",
       "      <td>1407</td>\n",
       "      <td>948</td>\n",
       "      <td>1340</td>\n",
       "      <td>4560</td>\n",
       "      <td>139</td>\n",
       "      <td>1</td>\n",
       "      <td>4745</td>\n",
       "      <td>5400</td>\n",
       "    </tr>\n",
       "  </tbody>\n",
       "</table>\n",
       "</div>"
      ],
      "text/plain": [
       "                 Title                  Company Location     Salary  \\\n",
       "count            29184                    29181    29182      16283   \n",
       "unique            8173                     4085     3817       3527   \n",
       "top     Data Scientist  Amazon.com Services LLC   Remote  Full-time   \n",
       "freq              1407                      948     1340       4560   \n",
       "\n",
       "                                              Description  \\\n",
       "count                                               22755   \n",
       "unique                                              12956   \n",
       "top     Note: Apple benefit, compensation and employee...   \n",
       "freq                                                  139   \n",
       "\n",
       "                                                  Job URL        Date  \\\n",
       "count                                               29181       29184   \n",
       "unique                                              29181          36   \n",
       "top     https://www.indeed.com/rc/clk?jk=b31b63cb0d9fd...  2024-06-23   \n",
       "freq                                                    1        4745   \n",
       "\n",
       "             State  \n",
       "count        29184  \n",
       "unique          52  \n",
       "top     California  \n",
       "freq          5400  "
      ]
     },
     "execution_count": 9,
     "metadata": {},
     "output_type": "execute_result"
    }
   ],
   "source": [
    "df.describe()"
   ]
  },
  {
   "cell_type": "markdown",
   "id": "6962b531-76d6-4862-b252-4e5f91b4f5e9",
   "metadata": {},
   "source": [
    "__Data cleaning__"
   ]
  },
  {
   "cell_type": "markdown",
   "id": "4e47da71-74ac-4f38-a20d-db7f50080c21",
   "metadata": {},
   "source": [
    "_Drop duplicate rows if any_"
   ]
  },
  {
   "cell_type": "code",
   "execution_count": 10,
   "id": "44b1d30e-4962-48cc-b9c1-2606098b9b83",
   "metadata": {},
   "outputs": [
    {
     "data": {
      "text/plain": [
       "(29184, 8)"
      ]
     },
     "execution_count": 10,
     "metadata": {},
     "output_type": "execute_result"
    }
   ],
   "source": [
    "df.drop_duplicates().shape # no duplicate values found in the dataset."
   ]
  },
  {
   "cell_type": "code",
   "execution_count": 11,
   "id": "219343ae-de10-44c9-ada9-09b216d0b5c1",
   "metadata": {},
   "outputs": [],
   "source": [
    "df.replace(' ', np.nan, inplace=True) #Replace blank values to `NaN` if any"
   ]
  },
  {
   "cell_type": "code",
   "execution_count": 12,
   "id": "71b6d493-5bf3-4f96-a602-59f6ede9da19",
   "metadata": {},
   "outputs": [
    {
     "data": {
      "text/plain": [
       "Title              0\n",
       "Company            3\n",
       "Location           2\n",
       "Salary         12901\n",
       "Description     6429\n",
       "Job URL            3\n",
       "Date               0\n",
       "State              0\n",
       "dtype: int64"
      ]
     },
     "execution_count": 12,
     "metadata": {},
     "output_type": "execute_result"
    }
   ],
   "source": [
    "# Display missing values\n",
    "\n",
    "df.isna().sum()"
   ]
  },
  {
   "cell_type": "markdown",
   "id": "5f619c87",
   "metadata": {},
   "source": [
    "__Data Cleaning__"
   ]
  },
  {
   "cell_type": "markdown",
   "id": "81a4fe8f-7664-4ebc-a632-99e295e70d12",
   "metadata": {},
   "source": [
    "Column: `Job URL`"
   ]
  },
  {
   "cell_type": "code",
   "execution_count": 13,
   "id": "351e55a9-f047-433b-8262-3e89b27d2928",
   "metadata": {},
   "outputs": [],
   "source": [
    "df = df.drop(columns ='Job URL') # drop un-used column"
   ]
  },
  {
   "cell_type": "markdown",
   "id": "831498b7-4c13-483d-8b6a-e397360c8af1",
   "metadata": {},
   "source": [
    "Column: `Company`"
   ]
  },
  {
   "cell_type": "code",
   "execution_count": 14,
   "id": "c266973d-4daf-4128-af56-7f0ebb403280",
   "metadata": {},
   "outputs": [],
   "source": [
    "def custom_capitalize(text):\n",
    "    return ' '.join(word.capitalize() for word in text.split())\n",
    "\n",
    "df['Company'] = df['Company'].astype(str)\n",
    "df['Company'] = df['Company'].apply(custom_capitalize)"
   ]
  },
  {
   "cell_type": "markdown",
   "id": "5e329c7b-23ac-498e-8a75-3d78599b4879",
   "metadata": {},
   "source": [
    "Column: `Title`"
   ]
  },
  {
   "cell_type": "code",
   "execution_count": 15,
   "id": "b36efadb-4bdb-41ab-b419-2e0433b65542",
   "metadata": {},
   "outputs": [],
   "source": [
    "df['Title'] = df['Title'].apply(custom_capitalize)"
   ]
  },
  {
   "cell_type": "markdown",
   "id": "4beee362-892b-4420-802d-773de57b3074",
   "metadata": {},
   "source": [
    "Column: `Work Type`"
   ]
  },
  {
   "cell_type": "code",
   "execution_count": 24,
   "id": "d3661cda-7c24-40f0-b401-2ad6c6e4249c",
   "metadata": {},
   "outputs": [],
   "source": [
    "df['Working Mode']=df['Title'].str.extract(r'(Remote|remote|Hybrid|hybrid)', expand=False)"
   ]
  },
  {
   "cell_type": "code",
   "execution_count": 31,
   "id": "c2bbf8bd",
   "metadata": {},
   "outputs": [],
   "source": [
    "df['Work_Type1'] = df['Location'][df['Location'] == 'Remote|remote|Hybrid|hybrid']\n",
    "df['Working Mode'] = df['Work_Type1'].fillna(df['Working Mode'])"
   ]
  },
  {
   "cell_type": "markdown",
   "id": "3717df31-04af-43ee-a94c-3d1a6ba7df68",
   "metadata": {},
   "source": [
    "Column: `Level`"
   ]
  },
  {
   "cell_type": "code",
   "execution_count": 27,
   "id": "a8985ea2-eb16-4b95-b6ef-fc8b9368dc25",
   "metadata": {},
   "outputs": [],
   "source": [
    "df['Level'] = df['Title'].str.extract(r'(?i)(Associate|Graduate|Senior|Junior|Entry-level|Manager|Lead)', expand=False)"
   ]
  },
  {
   "cell_type": "code",
   "execution_count": 28,
   "id": "6a08caf1-55eb-492f-9451-06ef8bb4ec68",
   "metadata": {},
   "outputs": [],
   "source": [
    "df['Level']=df['Level'].fillna('Mid-level').str.capitalize() # if the postings are not indicated job level, fill with 'Mid level'."
   ]
  },
  {
   "cell_type": "markdown",
   "id": "b7c3563b-c66f-48ba-adb9-3202f735615c",
   "metadata": {},
   "source": [
    "Columns `City`, `Post Code`"
   ]
  },
  {
   "cell_type": "code",
   "execution_count": 29,
   "id": "418c9b8e-bf6b-4974-b9fc-b1c87097d0ec",
   "metadata": {},
   "outputs": [],
   "source": [
    "df[['City','Post_Code']] = df['Location'].str.split(',', n=1, expand=True)"
   ]
  },
  {
   "cell_type": "code",
   "execution_count": 64,
   "id": "9525bfed-44be-4786-8a8c-03d910de5ee5",
   "metadata": {},
   "outputs": [],
   "source": [
    "df['Post_Code']=df['Post_Code'].str.extract(r'(\\d+)', expand=True) #extract the Post code from the string"
   ]
  },
  {
   "cell_type": "code",
   "execution_count": null,
   "id": "3b445c2d-0a7c-4ecb-91dc-3ab354553656",
   "metadata": {},
   "outputs": [],
   "source": [
    "df['Work_Type'] = df['Work_Type1'].fillna(df['Work_Type'])"
   ]
  },
  {
   "cell_type": "code",
   "execution_count": null,
   "id": "f1d37771",
   "metadata": {},
   "outputs": [],
   "source": [
    "df['Working Mode'].describe()"
   ]
  },
  {
   "cell_type": "markdown",
   "id": "f403f879-ce91-4114-8389-c987bac58dc5",
   "metadata": {},
   "source": [
    "Column: `Salary`"
   ]
  },
  {
   "cell_type": "code",
   "execution_count": 49,
   "id": "821fa6d7-7ee4-45e8-9a00-52794d644188",
   "metadata": {},
   "outputs": [],
   "source": [
    "# Function to extract digit from text\n",
    "def extract_number(text):\n",
    "    if pd.isna(text):\n",
    "        return np.nan\n",
    "\n",
    "    numbers = []\n",
    "    for char in text:\n",
    "        if char.isdigit() or char in ',.-':\n",
    "            numbers.append(char)\n",
    "    return ''.join(numbers).strip()"
   ]
  },
  {
   "cell_type": "code",
   "execution_count": 50,
   "id": "16d6dbdd-eeaa-49c4-8a66-4e9e65d3a1c8",
   "metadata": {},
   "outputs": [],
   "source": [
    "df['Salary']=df['Salary'].apply(extract_number)"
   ]
  },
  {
   "cell_type": "code",
   "execution_count": 51,
   "id": "109a5ff5-d749-489a-a3d6-2d757bcc3da3",
   "metadata": {},
   "outputs": [],
   "source": [
    "df['Salary'] = df['Salary'].str.strip('-') #for the values is not the number, return to `Null` value \n",
    "\n",
    "df.replace('', np.nan, inplace=True)"
   ]
  },
  {
   "cell_type": "code",
   "execution_count": 52,
   "id": "678f1c36-73b4-4717-b121-222d77c0c3b9",
   "metadata": {},
   "outputs": [],
   "source": [
    "df['Salary1'] = df['Description'].str.extract(r'(\\$\\d{1,3}(?:,\\d{3})*(?:\\.\\d{2})?)') # extract salary that data is digit"
   ]
  },
  {
   "cell_type": "code",
   "execution_count": 53,
   "id": "ab7dda27-ddd3-42f5-bee0-19de2016b1ba",
   "metadata": {},
   "outputs": [],
   "source": [
    "df['Salary']= df['Salary'].fillna(df['Salary1'])"
   ]
  },
  {
   "cell_type": "markdown",
   "id": "41ad3964-aec5-4fbd-a07c-d99a45bc6fde",
   "metadata": {},
   "source": [
    "- Salary within a range, seperate into to column `Min salary` and `Max salary`"
   ]
  },
  {
   "cell_type": "code",
   "execution_count": 54,
   "id": "b3d3c683-bc66-4cdc-afeb-bbbaab11219e",
   "metadata": {},
   "outputs": [],
   "source": [
    "df[['Min_salary','Max_salary']]=df['Salary'].str.split('-', n=1, expand=True)"
   ]
  },
  {
   "cell_type": "code",
   "execution_count": 55,
   "id": "e063815c-90ba-431c-a958-c7ad9a589888",
   "metadata": {},
   "outputs": [],
   "source": [
    "df['Max_salary']=df['Max_salary'].fillna(df['Min_salary']) #salary that is not a range, Min salary = Max salary"
   ]
  },
  {
   "cell_type": "code",
   "execution_count": 56,
   "id": "c81b93fb-4a4a-485b-a6d1-cd68083ca999",
   "metadata": {},
   "outputs": [],
   "source": [
    "# Strip any blank space and replace the '-' & ',' from salary colum\n",
    "\n",
    "df['Min_salary'] = df['Min_salary'].str.replace(r'[$,]', '', regex=True)\n",
    "df['Max_salary'] = df['Max_salary'].str.replace(r'[$,]', '', regex=True)"
   ]
  },
  {
   "cell_type": "code",
   "execution_count": 57,
   "id": "f8a0f17f-ca00-4e47-b0f3-abfc5e4bbe90",
   "metadata": {},
   "outputs": [],
   "source": [
    "# Convert to float\n",
    "\n",
    "df['Min_salary'] = df['Min_salary'].astype(float)\n",
    "df['Max_salary'] = df['Max_salary'].astype(float)"
   ]
  },
  {
   "cell_type": "code",
   "execution_count": 58,
   "id": "b17ed9c4-b125-46e6-9a18-d3f04b1c5fc9",
   "metadata": {},
   "outputs": [],
   "source": [
    "# Format the number with commas as thousands separators and no decimal places\n",
    "\n",
    "pd.options.display.float_format = '{:,.0f}'.format"
   ]
  },
  {
   "cell_type": "markdown",
   "id": "1de2f310-48fe-437a-b547-7813d574d255",
   "metadata": {},
   "source": [
    "Column: `Average salary`"
   ]
  },
  {
   "cell_type": "code",
   "execution_count": 60,
   "id": "d4cf85eb-1fe6-4e9c-9ba3-295f18526f41",
   "metadata": {},
   "outputs": [],
   "source": [
    "df['Average_salary'] = (df['Min_salary']+ df['Max_salary'])/2"
   ]
  },
  {
   "cell_type": "code",
   "execution_count": 61,
   "id": "e68e9cbc-e9ba-47bd-a206-2017fd549e5c",
   "metadata": {},
   "outputs": [
    {
     "data": {
      "text/html": [
       "<div>\n",
       "<style scoped>\n",
       "    .dataframe tbody tr th:only-of-type {\n",
       "        vertical-align: middle;\n",
       "    }\n",
       "\n",
       "    .dataframe tbody tr th {\n",
       "        vertical-align: top;\n",
       "    }\n",
       "\n",
       "    .dataframe thead th {\n",
       "        text-align: right;\n",
       "    }\n",
       "</style>\n",
       "<table border=\"1\" class=\"dataframe\">\n",
       "  <thead>\n",
       "    <tr style=\"text-align: right;\">\n",
       "      <th></th>\n",
       "      <th>Title</th>\n",
       "      <th>Company</th>\n",
       "      <th>Location</th>\n",
       "      <th>Salary</th>\n",
       "      <th>Description</th>\n",
       "      <th>Date</th>\n",
       "      <th>State</th>\n",
       "      <th>Working Mode</th>\n",
       "      <th>Level</th>\n",
       "      <th>City</th>\n",
       "      <th>Post_Code</th>\n",
       "      <th>Work_Type1</th>\n",
       "      <th>Salary1</th>\n",
       "      <th>Min_salary</th>\n",
       "      <th>Max_salary</th>\n",
       "      <th>Average_salary</th>\n",
       "    </tr>\n",
       "  </thead>\n",
       "  <tbody>\n",
       "    <tr>\n",
       "      <th>1</th>\n",
       "      <td>Senior Data Analyst</td>\n",
       "      <td>Pci Government Services</td>\n",
       "      <td>Hybrid work in Huntsville, AL 35808</td>\n",
       "      <td>85,000</td>\n",
       "      <td>Must have strong technical skills in areas suc...</td>\n",
       "      <td>2024-06-23</td>\n",
       "      <td>Alabama</td>\n",
       "      <td>NaN</td>\n",
       "      <td>Senior</td>\n",
       "      <td>Hybrid work in Huntsville</td>\n",
       "      <td>AL 35808</td>\n",
       "      <td>NaN</td>\n",
       "      <td>NaN</td>\n",
       "      <td>85,000</td>\n",
       "      <td>85,000</td>\n",
       "      <td>85,000</td>\n",
       "    </tr>\n",
       "    <tr>\n",
       "      <th>3</th>\n",
       "      <td>Data Scientist, Mid</td>\n",
       "      <td>Booz Allen</td>\n",
       "      <td>Huntsville, AL</td>\n",
       "      <td>75,600-172,000</td>\n",
       "      <td>As a data scientist, you’re excited at the pro...</td>\n",
       "      <td>2024-06-23</td>\n",
       "      <td>Alabama</td>\n",
       "      <td>NaN</td>\n",
       "      <td>Mid-level</td>\n",
       "      <td>Huntsville</td>\n",
       "      <td>AL</td>\n",
       "      <td>NaN</td>\n",
       "      <td>NaN</td>\n",
       "      <td>75,600</td>\n",
       "      <td>172,000</td>\n",
       "      <td>123,800</td>\n",
       "    </tr>\n",
       "    <tr>\n",
       "      <th>15</th>\n",
       "      <td>Data Scientist, Senior</td>\n",
       "      <td>Booz Allen</td>\n",
       "      <td>Huntsville, AL</td>\n",
       "      <td>96,600-220,000</td>\n",
       "      <td>Your deep data science and complimentary techn...</td>\n",
       "      <td>2024-06-23</td>\n",
       "      <td>Alabama</td>\n",
       "      <td>NaN</td>\n",
       "      <td>Senior</td>\n",
       "      <td>Huntsville</td>\n",
       "      <td>AL</td>\n",
       "      <td>NaN</td>\n",
       "      <td>NaN</td>\n",
       "      <td>96,600</td>\n",
       "      <td>220,000</td>\n",
       "      <td>158,300</td>\n",
       "    </tr>\n",
       "    <tr>\n",
       "      <th>29</th>\n",
       "      <td>Ai/ml Software Engineer</td>\n",
       "      <td>Leidos</td>\n",
       "      <td>Huntsville, AL 35806</td>\n",
       "      <td>81,250-146,875</td>\n",
       "      <td>You will also be responsible for working with ...</td>\n",
       "      <td>2024-06-23</td>\n",
       "      <td>Alabama</td>\n",
       "      <td>NaN</td>\n",
       "      <td>Mid-level</td>\n",
       "      <td>Huntsville</td>\n",
       "      <td>AL 35806</td>\n",
       "      <td>NaN</td>\n",
       "      <td>NaN</td>\n",
       "      <td>81,250</td>\n",
       "      <td>146,875</td>\n",
       "      <td>114,062</td>\n",
       "    </tr>\n",
       "    <tr>\n",
       "      <th>30</th>\n",
       "      <td>Product Lead, Ai</td>\n",
       "      <td>Recruiting From Scratch</td>\n",
       "      <td>Huntsville, AL</td>\n",
       "      <td>140,000-180,000</td>\n",
       "      <td>Facilitate rapid experimentation and data-driv...</td>\n",
       "      <td>2024-06-23</td>\n",
       "      <td>Alabama</td>\n",
       "      <td>NaN</td>\n",
       "      <td>Lead</td>\n",
       "      <td>Huntsville</td>\n",
       "      <td>AL</td>\n",
       "      <td>NaN</td>\n",
       "      <td>NaN</td>\n",
       "      <td>140,000</td>\n",
       "      <td>180,000</td>\n",
       "      <td>160,000</td>\n",
       "    </tr>\n",
       "  </tbody>\n",
       "</table>\n",
       "</div>"
      ],
      "text/plain": [
       "                      Title                  Company  \\\n",
       "1       Senior Data Analyst  Pci Government Services   \n",
       "3       Data Scientist, Mid               Booz Allen   \n",
       "15   Data Scientist, Senior               Booz Allen   \n",
       "29  Ai/ml Software Engineer                   Leidos   \n",
       "30         Product Lead, Ai  Recruiting From Scratch   \n",
       "\n",
       "                               Location           Salary  \\\n",
       "1   Hybrid work in Huntsville, AL 35808           85,000   \n",
       "3                        Huntsville, AL   75,600-172,000   \n",
       "15                       Huntsville, AL   96,600-220,000   \n",
       "29                 Huntsville, AL 35806   81,250-146,875   \n",
       "30                       Huntsville, AL  140,000-180,000   \n",
       "\n",
       "                                          Description        Date    State  \\\n",
       "1   Must have strong technical skills in areas suc...  2024-06-23  Alabama   \n",
       "3   As a data scientist, you’re excited at the pro...  2024-06-23  Alabama   \n",
       "15  Your deep data science and complimentary techn...  2024-06-23  Alabama   \n",
       "29  You will also be responsible for working with ...  2024-06-23  Alabama   \n",
       "30  Facilitate rapid experimentation and data-driv...  2024-06-23  Alabama   \n",
       "\n",
       "   Working Mode      Level                       City  Post_Code Work_Type1  \\\n",
       "1           NaN     Senior  Hybrid work in Huntsville   AL 35808        NaN   \n",
       "3           NaN  Mid-level                 Huntsville         AL        NaN   \n",
       "15          NaN     Senior                 Huntsville         AL        NaN   \n",
       "29          NaN  Mid-level                 Huntsville   AL 35806        NaN   \n",
       "30          NaN       Lead                 Huntsville         AL        NaN   \n",
       "\n",
       "   Salary1  Min_salary  Max_salary  Average_salary  \n",
       "1      NaN      85,000      85,000          85,000  \n",
       "3      NaN      75,600     172,000         123,800  \n",
       "15     NaN      96,600     220,000         158,300  \n",
       "29     NaN      81,250     146,875         114,062  \n",
       "30     NaN     140,000     180,000         160,000  "
      ]
     },
     "execution_count": 61,
     "metadata": {},
     "output_type": "execute_result"
    }
   ],
   "source": [
    "df = df[df['Average_salary'] >= 30000] #suppose the annual salary is over or equal 30,000 dollars\n",
    "df.head()"
   ]
  },
  {
   "cell_type": "markdown",
   "id": "226a20d7-abd7-4699-b57a-ab9342780715",
   "metadata": {},
   "source": [
    "Column: `State`"
   ]
  },
  {
   "cell_type": "markdown",
   "id": "2a1764d6-6ba9-4382-a3b2-eabc796bd3c3",
   "metadata": {},
   "source": [
    "- If the `State` column stated the value 'Remote' as the state, then the city and working type is also Remote"
   ]
  },
  {
   "cell_type": "code",
   "execution_count": 62,
   "id": "4e793894-819e-4a3d-b81d-9f5594a2b0a9",
   "metadata": {},
   "outputs": [],
   "source": [
    "df['City1'] = df['State'][df['State'] == 'Remote']"
   ]
  },
  {
   "cell_type": "markdown",
   "id": "78af5873-8236-4789-8bea-1e553b966629",
   "metadata": {},
   "source": [
    "- Update column city if state is `Remote`"
   ]
  },
  {
   "cell_type": "code",
   "execution_count": 63,
   "id": "df8ce4f9-d66b-4391-aa4a-c1e102b21c41",
   "metadata": {},
   "outputs": [],
   "source": [
    "df['City'] = df['City1'].fillna(df['City'])"
   ]
  },
  {
   "cell_type": "markdown",
   "id": "86817e60-04e2-408a-9ac1-f752a618f583",
   "metadata": {},
   "source": [
    "Column: `City`"
   ]
  },
  {
   "cell_type": "markdown",
   "id": "8aeb112e-0a6e-4df4-b97f-900bb0b37c91",
   "metadata": {},
   "source": [
    "- If `City` is remote then work type is remote"
   ]
  },
  {
   "cell_type": "code",
   "execution_count": 64,
   "id": "2d868e80-4fb5-48ee-9aa8-a03d52ace7b2",
   "metadata": {},
   "outputs": [],
   "source": [
    "df['Work_Type1'] =df['City'][df['City'] == 'Remote']"
   ]
  },
  {
   "cell_type": "markdown",
   "id": "7508fa51-c6c5-4adb-8a81-7c5394212a89",
   "metadata": {},
   "source": [
    "- Fill the Remote values to main `Working Mode` column"
   ]
  },
  {
   "cell_type": "code",
   "execution_count": 66,
   "id": "40287d0f-a83d-463c-8c93-938924b3b1a9",
   "metadata": {},
   "outputs": [],
   "source": [
    "df['Working Mode'] = df['Work_Type1'].fillna(df['Working Mode'])"
   ]
  },
  {
   "cell_type": "markdown",
   "id": "0d1d8555-a165-45e8-9232-e57e8f058253",
   "metadata": {},
   "source": [
    "- Extract the `City` after the word 'in'"
   ]
  },
  {
   "cell_type": "code",
   "execution_count": 67,
   "id": "70baeacf-bcd2-4beb-976f-f1b2a00aef64",
   "metadata": {},
   "outputs": [],
   "source": [
    "df['City'] = df['City'].apply(lambda x: x.split(' in ', 1)[-1].strip() if 'in' in x else x)"
   ]
  },
  {
   "cell_type": "markdown",
   "id": "3380f3ce-946b-4b9d-a815-0ae44c61f15b",
   "metadata": {},
   "source": [
    "- If `Work_Type` is null, then suppose the type is 'on-site'"
   ]
  },
  {
   "cell_type": "code",
   "execution_count": 68,
   "id": "ab7c7cfc-ae97-4d0e-b38e-352c684a32d8",
   "metadata": {},
   "outputs": [],
   "source": [
    "df['Working Mode'] = df['Working Mode'].fillna('On-Site')"
   ]
  },
  {
   "cell_type": "markdown",
   "id": "18926cb5-151c-4840-b5a6-d0fd2728b790",
   "metadata": {},
   "source": [
    "Column: `Date`"
   ]
  },
  {
   "cell_type": "markdown",
   "id": "ccd67396-83db-4c98-8496-6546d8c31749",
   "metadata": {},
   "source": [
    "- Convert the data type to `Datetime`"
   ]
  },
  {
   "cell_type": "code",
   "execution_count": 69,
   "id": "4f876858-1006-46fe-bd25-115c021a2987",
   "metadata": {},
   "outputs": [],
   "source": [
    "df['Date'] = pd.to_datetime(df['Date'])"
   ]
  },
  {
   "cell_type": "markdown",
   "id": "76d5ce7e-97c7-4518-8d09-82084929df45",
   "metadata": {},
   "source": [
    "- Update and re-order the columns in the dataset, remove unused columns"
   ]
  },
  {
   "cell_type": "code",
   "execution_count": 72,
   "id": "607af88a-5f3d-4cac-855e-e8ad66f322a5",
   "metadata": {},
   "outputs": [],
   "source": [
    "df = df[['Date','Company', 'State', 'City', 'Level', 'Working Mode', 'Average_salary']]"
   ]
  },
  {
   "cell_type": "code",
   "execution_count": 73,
   "id": "b339f7d1-4d37-4a4f-9fc2-cbff0a91489f",
   "metadata": {},
   "outputs": [
    {
     "data": {
      "text/plain": [
       "Date              0\n",
       "Company           0\n",
       "State             0\n",
       "City              0\n",
       "Level             0\n",
       "Working Mode      0\n",
       "Average_salary    0\n",
       "dtype: int64"
      ]
     },
     "execution_count": 73,
     "metadata": {},
     "output_type": "execute_result"
    }
   ],
   "source": [
    "df.isna().sum()"
   ]
  },
  {
   "cell_type": "code",
   "execution_count": 74,
   "id": "adca698e-72b0-4f6c-949e-e2c011fcf475",
   "metadata": {},
   "outputs": [
    {
     "data": {
      "text/plain": [
       "(9391, 7)"
      ]
     },
     "execution_count": 74,
     "metadata": {},
     "output_type": "execute_result"
    }
   ],
   "source": [
    "df.shape"
   ]
  },
  {
   "cell_type": "code",
   "execution_count": 75,
   "id": "d5dd25f3-31cb-4ec6-8332-546e2fda4ef7",
   "metadata": {},
   "outputs": [
    {
     "data": {
      "text/html": [
       "<div>\n",
       "<style scoped>\n",
       "    .dataframe tbody tr th:only-of-type {\n",
       "        vertical-align: middle;\n",
       "    }\n",
       "\n",
       "    .dataframe tbody tr th {\n",
       "        vertical-align: top;\n",
       "    }\n",
       "\n",
       "    .dataframe thead th {\n",
       "        text-align: right;\n",
       "    }\n",
       "</style>\n",
       "<table border=\"1\" class=\"dataframe\">\n",
       "  <thead>\n",
       "    <tr style=\"text-align: right;\">\n",
       "      <th></th>\n",
       "      <th>Date</th>\n",
       "      <th>Company</th>\n",
       "      <th>State</th>\n",
       "      <th>City</th>\n",
       "      <th>Level</th>\n",
       "      <th>Working Mode</th>\n",
       "      <th>Average_salary</th>\n",
       "    </tr>\n",
       "  </thead>\n",
       "  <tbody>\n",
       "    <tr>\n",
       "      <th>1</th>\n",
       "      <td>2024-06-23</td>\n",
       "      <td>Pci Government Services</td>\n",
       "      <td>Alabama</td>\n",
       "      <td>Huntsville</td>\n",
       "      <td>Senior</td>\n",
       "      <td>On-Site</td>\n",
       "      <td>85,000</td>\n",
       "    </tr>\n",
       "    <tr>\n",
       "      <th>3</th>\n",
       "      <td>2024-06-23</td>\n",
       "      <td>Booz Allen</td>\n",
       "      <td>Alabama</td>\n",
       "      <td>Huntsville</td>\n",
       "      <td>Mid-level</td>\n",
       "      <td>On-Site</td>\n",
       "      <td>123,800</td>\n",
       "    </tr>\n",
       "    <tr>\n",
       "      <th>15</th>\n",
       "      <td>2024-06-23</td>\n",
       "      <td>Booz Allen</td>\n",
       "      <td>Alabama</td>\n",
       "      <td>Huntsville</td>\n",
       "      <td>Senior</td>\n",
       "      <td>On-Site</td>\n",
       "      <td>158,300</td>\n",
       "    </tr>\n",
       "    <tr>\n",
       "      <th>29</th>\n",
       "      <td>2024-06-23</td>\n",
       "      <td>Leidos</td>\n",
       "      <td>Alabama</td>\n",
       "      <td>Huntsville</td>\n",
       "      <td>Mid-level</td>\n",
       "      <td>On-Site</td>\n",
       "      <td>114,062</td>\n",
       "    </tr>\n",
       "    <tr>\n",
       "      <th>30</th>\n",
       "      <td>2024-06-23</td>\n",
       "      <td>Recruiting From Scratch</td>\n",
       "      <td>Alabama</td>\n",
       "      <td>Huntsville</td>\n",
       "      <td>Lead</td>\n",
       "      <td>On-Site</td>\n",
       "      <td>160,000</td>\n",
       "    </tr>\n",
       "    <tr>\n",
       "      <th>33</th>\n",
       "      <td>2024-06-23</td>\n",
       "      <td>Recruiting From Scratch</td>\n",
       "      <td>Alabama</td>\n",
       "      <td>Huntsville</td>\n",
       "      <td>Senior</td>\n",
       "      <td>On-Site</td>\n",
       "      <td>165,000</td>\n",
       "    </tr>\n",
       "    <tr>\n",
       "      <th>41</th>\n",
       "      <td>2024-06-23</td>\n",
       "      <td>Prosper</td>\n",
       "      <td>Arizona</td>\n",
       "      <td>Phoenix</td>\n",
       "      <td>Mid-level</td>\n",
       "      <td>On-Site</td>\n",
       "      <td>162,500</td>\n",
       "    </tr>\n",
       "    <tr>\n",
       "      <th>42</th>\n",
       "      <td>2024-06-23</td>\n",
       "      <td>Us Dhs Headquarters</td>\n",
       "      <td>Arizona</td>\n",
       "      <td>Chandler</td>\n",
       "      <td>Lead</td>\n",
       "      <td>On-Site</td>\n",
       "      <td>162,050</td>\n",
       "    </tr>\n",
       "    <tr>\n",
       "      <th>45</th>\n",
       "      <td>2024-06-23</td>\n",
       "      <td>Clarivate</td>\n",
       "      <td>Arizona</td>\n",
       "      <td>Chandler</td>\n",
       "      <td>Senior</td>\n",
       "      <td>On-Site</td>\n",
       "      <td>136,000</td>\n",
       "    </tr>\n",
       "    <tr>\n",
       "      <th>48</th>\n",
       "      <td>2024-06-23</td>\n",
       "      <td>City National Bank</td>\n",
       "      <td>Arizona</td>\n",
       "      <td>Phoenix</td>\n",
       "      <td>Mid-level</td>\n",
       "      <td>On-Site</td>\n",
       "      <td>165,625</td>\n",
       "    </tr>\n",
       "  </tbody>\n",
       "</table>\n",
       "</div>"
      ],
      "text/plain": [
       "         Date                  Company    State        City      Level  \\\n",
       "1  2024-06-23  Pci Government Services  Alabama  Huntsville     Senior   \n",
       "3  2024-06-23               Booz Allen  Alabama  Huntsville  Mid-level   \n",
       "15 2024-06-23               Booz Allen  Alabama  Huntsville     Senior   \n",
       "29 2024-06-23                   Leidos  Alabama  Huntsville  Mid-level   \n",
       "30 2024-06-23  Recruiting From Scratch  Alabama  Huntsville       Lead   \n",
       "33 2024-06-23  Recruiting From Scratch  Alabama  Huntsville     Senior   \n",
       "41 2024-06-23                  Prosper  Arizona     Phoenix  Mid-level   \n",
       "42 2024-06-23      Us Dhs Headquarters  Arizona    Chandler       Lead   \n",
       "45 2024-06-23                Clarivate  Arizona    Chandler     Senior   \n",
       "48 2024-06-23       City National Bank  Arizona     Phoenix  Mid-level   \n",
       "\n",
       "   Working Mode  Average_salary  \n",
       "1       On-Site          85,000  \n",
       "3       On-Site         123,800  \n",
       "15      On-Site         158,300  \n",
       "29      On-Site         114,062  \n",
       "30      On-Site         160,000  \n",
       "33      On-Site         165,000  \n",
       "41      On-Site         162,500  \n",
       "42      On-Site         162,050  \n",
       "45      On-Site         136,000  \n",
       "48      On-Site         165,625  "
      ]
     },
     "execution_count": 75,
     "metadata": {},
     "output_type": "execute_result"
    }
   ],
   "source": [
    "df.head(10)"
   ]
  },
  {
   "cell_type": "markdown",
   "id": "7eadfaa6-c0fc-4cc2-8461-8978110e18a7",
   "metadata": {},
   "source": [
    "_Download the dataset to CSV file without the index_"
   ]
  },
  {
   "cell_type": "code",
   "execution_count": 76,
   "id": "5844eb2a-a171-4157-a9c8-df877400397b",
   "metadata": {},
   "outputs": [],
   "source": [
    "df.to_csv('completed_file.csv', index = False)"
   ]
  }
 ],
 "metadata": {
  "kernelspec": {
   "display_name": "Python 3 (ipykernel)",
   "language": "python",
   "name": "python3"
  },
  "language_info": {
   "codemirror_mode": {
    "name": "ipython",
    "version": 3
   },
   "file_extension": ".py",
   "mimetype": "text/x-python",
   "name": "python",
   "nbconvert_exporter": "python",
   "pygments_lexer": "ipython3",
   "version": "3.12.6"
  }
 },
 "nbformat": 4,
 "nbformat_minor": 5
}
